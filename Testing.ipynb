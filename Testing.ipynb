{
 "cells": [
  {
   "cell_type": "code",
   "execution_count": 3,
   "metadata": {},
   "outputs": [],
   "source": [
    "import cv2\n",
    "import numpy as np\n",
    "import matplotlib.pyplot as plt\n",
    "import time"
   ]
  },
  {
   "cell_type": "code",
   "execution_count": 4,
   "metadata": {},
   "outputs": [],
   "source": [
    "face_cascade = cv2.CascadeClassifier(\"data/haarcascade/haarcascade_frontalface_default.xml\")"
   ]
  },
  {
   "cell_type": "code",
   "execution_count": 5,
   "metadata": {},
   "outputs": [],
   "source": [
    "def detect_face(img):\n",
    "    img_gray = cv2.cvtColor(img,cv2.COLOR_BGR2GRAY)\n",
    "    new_img = img.copy()\n",
    "    face_rects = face_cascade.detectMultiScale(img_gray,scaleFactor=1.2,minNeighbors=5)\n",
    "    for (x,y,w,h) in face_rects:\n",
    "        cv2.rectangle(new_img,(x,y),(x+w,y+h),(255,255,255),10)\n",
    "    return new_img"
   ]
  },
  {
   "cell_type": "code",
   "execution_count": 6,
   "metadata": {},
   "outputs": [],
   "source": [
    "def web_cam():\n",
    "    cap = cv2.VideoCapture(0)\n",
    "    while True:\n",
    "        ret, frame = cap.read()\n",
    "        frame = detect_face(frame)\n",
    "        cv2.imshow(\"Video Face Detection\",frame)\n",
    "        k=cv2.waitKey(1)\n",
    "        if k==27:\n",
    "            break\n",
    "        \n",
    "    cap.release()\n",
    "    cv2.destroyAllWindows()"
   ]
  },
  {
   "cell_type": "code",
   "execution_count": null,
   "metadata": {},
   "outputs": [],
   "source": [
    "web_cam()"
   ]
  },
  {
   "cell_type": "code",
   "execution_count": 9,
   "metadata": {},
   "outputs": [],
   "source": [
    "def img_read():\n",
    "    while True:\n",
    "        path=input(\"Enter the image's path(full path): \")\n",
    "        pic = cv2.imread(path)\n",
    "        try:\n",
    "            Photo=pic.copy()\n",
    "            break\n",
    "        except:\n",
    "            print(\"Wrong file path entered\")\n",
    "            continue\n",
    "    Photo=cv2.resize(Photo,(1000,800))\n",
    "    result = detect_face(Photo)\n",
    "    cv2.imshow(\"result\",result)\n",
    "    cv2.waitKey()"
   ]
  },
  {
   "cell_type": "code",
   "execution_count": 10,
   "metadata": {},
   "outputs": [
    {
     "name": "stdin",
     "output_type": "stream",
     "text": [
      "Enter the image's path(full path):  data/my_photo.jpg\n"
     ]
    }
   ],
   "source": [
    "img_read()"
   ]
  },
  {
   "cell_type": "code",
   "execution_count": null,
   "metadata": {},
   "outputs": [],
   "source": [
    "def vid_read():\n",
    "    while True:\n",
    "        path=input(\"Enter the video's path/location: \")\n",
    "        cap = cv2.VideoCapture(path)\n",
    "        if cap.isOpened() == False:\n",
    "            print(\"Wrong file path entered\")\n",
    "            continue   \n",
    "        else:\n",
    "            break\n",
    "    fps = int(cap.get(cv2.CAP_PROP_FPS))\n",
    "    while cap.isOpened():\n",
    "        ret,frame = cap.read()\n",
    "        if ret == True:\n",
    "            #time.sleep(1/(fps))\n",
    "            #no need for applying this becoz haarcascades detection already make it slow\n",
    "            frame = detect_face(frame)\n",
    "            cv2.imshow(\"frame\",frame)\n",
    "            if cv2.waitKey(10) & 0xFF == 27:\n",
    "                break\n",
    "        else:\n",
    "            break\n",
    "    cap.release()\n",
    "    cv2.destroyAllWindows()"
   ]
  },
  {
   "cell_type": "code",
   "execution_count": null,
   "metadata": {},
   "outputs": [],
   "source": [
    "vid_read()"
   ]
  },
  {
   "cell_type": "code",
   "execution_count": null,
   "metadata": {},
   "outputs": [],
   "source": [
    "def number_input():\n",
    "    while True:\n",
    "        try:\n",
    "            n = int(input(\"Enter your choice (1-3) \"))\n",
    "            if n in range(1,4):\n",
    "                return n\n",
    "            else:\n",
    "                print(\"Invalid Choice! Try Again\")\n",
    "        except:\n",
    "            print(\"Invalid Choice! Try Again\")"
   ]
  },
  {
   "cell_type": "code",
   "execution_count": null,
   "metadata": {},
   "outputs": [],
   "source": [
    "#-------------DETECT FACES APPLICATION-------------\n",
    "print(\"------------------DETECT FACES APPLICATION------------------\")\n",
    "print(\"{In case of Using WebCam or playing Video press Esc to EXIT}\")\n",
    "print(\"\\n1. Detecting front face using webcam\")\n",
    "print(\"2. Detecting front face in an image\")\n",
    "print(\"3. Detetcing front face in a video(Not Quite Good Working)\\n\")\n",
    "choice = number_input()\n",
    "if choice==1:\n",
    "    web_cam()\n",
    "elif choice==2:\n",
    "    img_read()\n",
    "else: #choice==3\n",
    "    vid_read()"
   ]
  },
  {
   "cell_type": "code",
   "execution_count": null,
   "metadata": {},
   "outputs": [],
   "source": []
  }
 ],
 "metadata": {
  "kernelspec": {
   "display_name": "Python 3",
   "language": "python",
   "name": "python3"
  },
  "language_info": {
   "codemirror_mode": {
    "name": "ipython",
    "version": 3
   },
   "file_extension": ".py",
   "mimetype": "text/x-python",
   "name": "python",
   "nbconvert_exporter": "python",
   "pygments_lexer": "ipython3",
   "version": "3.8.3"
  }
 },
 "nbformat": 4,
 "nbformat_minor": 4
}
